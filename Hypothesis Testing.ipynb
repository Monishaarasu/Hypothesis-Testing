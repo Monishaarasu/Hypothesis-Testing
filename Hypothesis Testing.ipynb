{
 "cells": [
  {
   "cell_type": "code",
   "execution_count": 1,
   "id": "8043fec0",
   "metadata": {},
   "outputs": [],
   "source": [
    "#                                            Chisquare test\n",
    "# 1. State the Hypotheses:\n",
    "# Null Hypothesis (H0): There is no significant association between the type of smart home device\n",
    "# purchased and the customer satisfaction level.\n",
    "    \n",
    "# Alternative Hypothesis (H1): There is a significant association between the type of smart home device\n",
    "# purchased and the customer satisfaction level."
   ]
  },
  {
   "cell_type": "code",
   "execution_count": 2,
   "id": "16674e08",
   "metadata": {},
   "outputs": [],
   "source": [
    "import numpy as np\n",
    "import scipy.stats as stats  \n",
    "import pandas as pd"
   ]
  },
  {
   "cell_type": "code",
   "execution_count": 3,
   "id": "993660b4",
   "metadata": {},
   "outputs": [
    {
     "name": "stdout",
     "output_type": "stream",
     "text": [
      "[[50, 80, 60, 30, 20], [70, 100, 90, 50, 50]]\n"
     ]
    }
   ],
   "source": [
    "# contingency table\n",
    "table = [[50, 80, 60,30,20],\n",
    "[70, 100,90,50,50]]\n",
    "print(table)"
   ]
  },
  {
   "cell_type": "code",
   "execution_count": 4,
   "id": "9869b318",
   "metadata": {},
   "outputs": [
    {
     "name": "stdout",
     "output_type": "stream",
     "text": [
      "Chi-Square Statistic: 5.638227513227513\n",
      "P-value: 0.22784371130697179\n",
      "Degrees of Freedom: 4\n"
     ]
    }
   ],
   "source": [
    "# 2. Compute the Chi-Square Statistic:\n",
    "stat, p, dof, expected = stats.chi2_contingency(table)\n",
    "print(f\"Chi-Square Statistic: {stat}\")\n",
    "print(f\"P-value: {p}\")\n",
    "print(f\"Degrees of Freedom: {dof}\")"
   ]
  },
  {
   "cell_type": "code",
   "execution_count": 5,
   "id": "b05e4a0c",
   "metadata": {},
   "outputs": [
    {
     "name": "stdout",
     "output_type": "stream",
     "text": [
      "critical_value: 9.487729036781154\n"
     ]
    }
   ],
   "source": [
    "# 3. Determine the Critical Value:\n",
    "alpha = 0.05\n",
    "critical_value = stats.chi2.ppf(1 - alpha, dof)\n",
    "print(f\"critical_value: {critical_value}\")"
   ]
  },
  {
   "cell_type": "code",
   "execution_count": 6,
   "id": "157b836c",
   "metadata": {},
   "outputs": [
    {
     "name": "stdout",
     "output_type": "stream",
     "text": [
      "significance=0.050, p=0.228\n",
      "Fail to reject the null hypothesis (H0). There is no significant association between the type of device and customer satisfaction.\n"
     ]
    }
   ],
   "source": [
    "# 4. Make a Decision:\n",
    "# interpret p-value\n",
    "alpha = 0.05\n",
    "print('significance=%.3f, p=%.3f' % (alpha, p))\n",
    "if p <= alpha:\n",
    "    print(\"Reject the null hypothesis (H0). There is a significant association between the type of device and customer satisfaction.\")\n",
    "else:\n",
    "    print(\"Fail to reject the null hypothesis (H0). There is no significant association between the type of device and customer satisfaction.\")"
   ]
  },
  {
   "cell_type": "code",
   "execution_count": 7,
   "id": "c6888383",
   "metadata": {},
   "outputs": [],
   "source": [
    "#                                             Hypothesis Testing\n",
    "# 1. State the Hypotheses statement:\n",
    "# Null Hypothesis (H₀): The weekly operating costs follow the theoretical model,\n",
    "# i.e., the mean weekly cost is equal to the predicted value: (μ = $1,000 + $5X).\n",
    "# Alternative Hypothesis (H₁): The weekly operating costs are higher than predicted by the model: (μ > $1,000 + $5X)."
   ]
  },
  {
   "cell_type": "code",
   "execution_count": 8,
   "id": "0ddcd7b6",
   "metadata": {},
   "outputs": [],
   "source": [
    "# Given data as per the problem\n",
    "sample_mean = 3050  # Sample mean weekly cost (Rs.)\n",
    "theoretical_mean = 1000 + 5 * 600  # Theoretical mean weekly cost according to the model (Rs.)\n",
    "std_dev = 5 * 25  # Standard deviation (Rs.)\n",
    "sample_size = 25  # Sample size\n",
    "alpha = 0.05  # Significance level"
   ]
  },
  {
   "cell_type": "code",
   "execution_count": 9,
   "id": "c9f32269",
   "metadata": {},
   "outputs": [
    {
     "name": "stdout",
     "output_type": "stream",
     "text": [
      "p: -38.0\n"
     ]
    }
   ],
   "source": [
    "# 2. Calculate the Test Statistic:\n",
    "p = (sample_mean - theoretical_mean) / (std_dev / (sample_size ** 0.5))\n",
    "print(f\"p: {p}\")"
   ]
  },
  {
   "cell_type": "code",
   "execution_count": 10,
   "id": "a5dfa951",
   "metadata": {},
   "outputs": [
    {
     "name": "stdout",
     "output_type": "stream",
     "text": [
      "Degrees of Freedom: 24\n"
     ]
    }
   ],
   "source": [
    "# 3. Determining the Critical Value:\n",
    "# Degrees of freedom for a one-sample t-test is (n - 1)\n",
    "degrees_of_freedom = sample_size - 1\n",
    "print(f\"Degrees of Freedom: {degrees_of_freedom}\")"
   ]
  },
  {
   "cell_type": "code",
   "execution_count": 11,
   "id": "303c0c94",
   "metadata": {},
   "outputs": [
    {
     "name": "stdout",
     "output_type": "stream",
     "text": [
      "critical_value: 1.7108820799094275\n"
     ]
    }
   ],
   "source": [
    "# Finding the critical value from the t-distribution\n",
    "critical_value = stats.t.ppf(1 - alpha, degrees_of_freedom)\n",
    "print(f\"critical_value: {critical_value}\")"
   ]
  },
  {
   "cell_type": "code",
   "execution_count": 12,
   "id": "1ab212ce",
   "metadata": {},
   "outputs": [
    {
     "name": "stdout",
     "output_type": "stream",
     "text": [
      "significance=0.050, p=-38.000\n",
      "Reject the null hypothesis (H₀).\n",
      "There is strong evidence to support the restaurant owners' claim that the weekly operating costs are higher.\n"
     ]
    }
   ],
   "source": [
    "# 4. Make a Decision:\n",
    "# interpret p-value\n",
    "alpha = 0.05\n",
    "print('significance=%.3f, p=%.3f' % (alpha, p))\n",
    "if p <= alpha:\n",
    "    print(\"Reject the null hypothesis (H₀).\")\n",
    "    print(\"There is strong evidence to support the restaurant owners' claim that the weekly operating costs are higher.\")\n",
    "else:\n",
    "    print(\"Fail to reject the null hypothesis (H₀).\")\n",
    "    print(\"There is no strong evidence to support the restaurant owners' claim that the weekly operating costs are higher.\")"
   ]
  }
 ],
 "metadata": {
  "kernelspec": {
   "display_name": "Python 3 (ipykernel)",
   "language": "python",
   "name": "python3"
  },
  "language_info": {
   "codemirror_mode": {
    "name": "ipython",
    "version": 3
   },
   "file_extension": ".py",
   "mimetype": "text/x-python",
   "name": "python",
   "nbconvert_exporter": "python",
   "pygments_lexer": "ipython3",
   "version": "3.9.12"
  }
 },
 "nbformat": 4,
 "nbformat_minor": 5
}
